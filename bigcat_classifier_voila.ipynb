{
  "nbformat": 4,
  "nbformat_minor": 0,
  "metadata": {
    "colab": {
      "name": "bigcat_classifier_voila.ipynb",
      "provenance": [],
      "collapsed_sections": [],
      "authorship_tag": "ABX9TyNXz8MKmVK9LA0yyrMZNibM"
    },
    "kernelspec": {
      "name": "python3",
      "display_name": "Python 3"
    }
  },
  "cells": [
    {
      "cell_type": "markdown",
      "metadata": {
        "id": "01Spc05zPzv7"
      },
      "source": [
        "# Big Cat Classifier\n",
        "\n",
        "This web app will tell if you if the feline looking predator that's currently chasing you\n",
        "is a Leopard,Tiger or a Cheetah. \n",
        "Hey you may not survive but knowledge is still power!"
      ]
    },
    {
      "cell_type": "code",
      "metadata": {
        "id": "R29i2AQeQgAq"
      },
      "source": [
        "#hide\n",
        "import warnings\n",
        "warnings.filterwarnings('ignore')\n",
        "from fastai.vision.all import *\n",
        "from fastai.vision.widgets import *"
      ],
      "execution_count": null,
      "outputs": []
    },
    {
      "cell_type": "code",
      "metadata": {
        "id": "5XpVTaRNU1_J"
      },
      "source": [
        "#hide\n",
        "!pip install -q gdown\n",
        "import gdown\n",
        "import os"
      ],
      "execution_count": null,
      "outputs": []
    },
    {
      "cell_type": "code",
      "metadata": {
        "id": "CK7yzzVWU9ME"
      },
      "source": [
        "#hide\n",
        "gdown.download('https://drive.google.com/uc?id=1WrQpYqKu5qwMuVz9s9CEF36pT-UhTO-x','export.pkl',True);"
      ],
      "execution_count": null,
      "outputs": []
    },
    {
      "cell_type": "code",
      "metadata": {
        "id": "Ot5onuCyQlwZ"
      },
      "source": [
        "path = Path('.')\n",
        "learn_inf = load_learner(path/'export.pkl', cpu=True)"
      ],
      "execution_count": null,
      "outputs": []
    },
    {
      "cell_type": "code",
      "metadata": {
        "id": "4J6GLxkChwud"
      },
      "source": [
        "btn_upload = widgets.FileUpload()\n",
        "out_pl = widgets.Output()\n",
        "lbl_pred = widgets.Label()\n",
        "lbl_pred.value = ''"
      ],
      "execution_count": null,
      "outputs": []
    },
    {
      "cell_type": "code",
      "metadata": {
        "id": "WiWDNev3SEFa"
      },
      "source": [
        "def on_data_change(change):\n",
        "    img = PILImage.create(btn_upload.data[-1])\n",
        "    out_pl.clear_output()\n",
        "    with out_pl: display(img.to_thumb(128,128))\n",
        "    lbl_pred.value = 'Predicting...'\n",
        "    pred,pred_idx,probs = learn_inf.predict(img)\n",
        "    lbl_pred.value = 'Prediction: {}; Probability: {}'.format(pred,probs[pred_idx])"
      ],
      "execution_count": null,
      "outputs": []
    },
    {
      "cell_type": "code",
      "metadata": {
        "id": "ArOdOsN-SIlg"
      },
      "source": [
        "btn_upload.observe(on_data_change, names=['data'])"
      ],
      "execution_count": null,
      "outputs": []
    },
    {
      "cell_type": "code",
      "metadata": {
        "id": "fxez_ILkSO8w"
      },
      "source": [
        "display(VBox([widgets.Label('Select your wild cat!'), btn_upload, out_pl, lbl_pred]))"
      ],
      "execution_count": null,
      "outputs": []
    }
  ]
}